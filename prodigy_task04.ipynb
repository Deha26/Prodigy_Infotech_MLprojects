{
 "cells": [
  {
   "cell_type": "markdown",
   "id": "1c295150",
   "metadata": {},
   "source": [
    "IMPORT LIBRARIES"
   ]
  },
  {
   "cell_type": "code",
   "execution_count": 1,
   "id": "c2798420",
   "metadata": {},
   "outputs": [],
   "source": [
    "import pandas as pd\n",
    "import numpy as np\n",
    "import matplotlib.pyplot as plt\n",
    "import seaborn as sns\n",
    "sns.set()\n",
    "import warnings\n",
    "warnings.filterwarnings(\"ignore\")"
   ]
  },
  {
   "cell_type": "code",
   "execution_count": 2,
   "id": "46438981",
   "metadata": {},
   "outputs": [],
   "source": [
    "path=\"C:\\\\Users\\\\Dell\\\\Downloads\\\\hand\\\\leapGestRecog\\\\00\""
   ]
  },
  {
   "cell_type": "markdown",
   "id": "03c60dfa",
   "metadata": {},
   "source": [
    "LOAD DATASET"
   ]
  },
  {
   "cell_type": "code",
   "execution_count": 3,
   "id": "b31f5a2c",
   "metadata": {},
   "outputs": [
    {
     "name": "stderr",
     "output_type": "stream",
     "text": [
      "  0%|                                                                                           | 0/10 [00:00<?, ?it/s]\n",
      "  0%|                                                                                          | 0/200 [00:00<?, ?it/s]\u001b[A\n",
      " 24%|███████████████████▌                                                            | 49/200 [00:00<00:00, 481.23it/s]\u001b[A\n",
      " 50%|███████████████████████████████████████▉                                       | 101/200 [00:00<00:00, 497.36it/s]\u001b[A\n",
      "100%|███████████████████████████████████████████████████████████████████████████████| 200/200 [00:00<00:00, 497.98it/s]\u001b[A\n",
      " 10%|████████▎                                                                          | 1/10 [00:00<00:03,  2.47it/s]\n",
      "  0%|                                                                                          | 0/200 [00:00<?, ?it/s]\u001b[A\n",
      " 23%|██████████████████▍                                                             | 46/200 [00:00<00:00, 453.84it/s]\u001b[A\n",
      " 49%|███████████████████████████████████████▏                                        | 98/200 [00:00<00:00, 487.18it/s]\u001b[A\n",
      "100%|███████████████████████████████████████████████████████████████████████████████| 200/200 [00:00<00:00, 489.59it/s]\u001b[A\n",
      " 20%|████████████████▌                                                                  | 2/10 [00:00<00:03,  2.46it/s]\n",
      "  0%|                                                                                          | 0/200 [00:00<?, ?it/s]\u001b[A\n",
      " 26%|█████████████████████▏                                                          | 53/200 [00:00<00:00, 511.55it/s]\u001b[A\n",
      " 56%|███████████████████████████████████████████▊                                   | 111/200 [00:00<00:00, 507.24it/s]\u001b[A\n",
      "100%|███████████████████████████████████████████████████████████████████████████████| 200/200 [00:00<00:00, 496.83it/s]\u001b[A\n",
      " 30%|████████████████████████▉                                                          | 3/10 [00:01<00:02,  2.45it/s]\n",
      "  0%|                                                                                          | 0/200 [00:00<?, ?it/s]\u001b[A\n",
      " 28%|██████████████████████▍                                                         | 56/200 [00:00<00:00, 504.96it/s]\u001b[A\n",
      " 54%|██████████████████████████████████████████▎                                    | 107/200 [00:00<00:00, 498.78it/s]\u001b[A\n",
      "100%|███████████████████████████████████████████████████████████████████████████████| 200/200 [00:00<00:00, 503.15it/s]\u001b[A\n",
      " 40%|█████████████████████████████████▏                                                 | 4/10 [00:01<00:02,  2.47it/s]\n",
      "  0%|                                                                                          | 0/200 [00:00<?, ?it/s]\u001b[A\n",
      " 24%|██████████████████▊                                                             | 47/200 [00:00<00:00, 469.38it/s]\u001b[A\n",
      " 52%|█████████████████████████████████████████▍                                     | 105/200 [00:00<00:00, 496.82it/s]\u001b[A\n",
      "100%|███████████████████████████████████████████████████████████████████████████████| 200/200 [00:00<00:00, 501.71it/s]\u001b[A\n",
      " 50%|█████████████████████████████████████████▌                                         | 5/10 [00:02<00:02,  2.48it/s]\n",
      "  0%|                                                                                          | 0/200 [00:00<?, ?it/s]\u001b[A\n",
      " 25%|████████████████████                                                            | 50/200 [00:00<00:00, 480.92it/s]\u001b[A\n",
      " 50%|███████████████████████████████████████▉                                       | 101/200 [00:00<00:00, 493.00it/s]\u001b[A\n",
      "100%|███████████████████████████████████████████████████████████████████████████████| 200/200 [00:00<00:00, 493.52it/s]\u001b[A\n",
      " 60%|█████████████████████████████████████████████████▊                                 | 6/10 [00:02<00:01,  2.45it/s]\n",
      "  0%|                                                                                          | 0/200 [00:00<?, ?it/s]\u001b[A\n",
      " 26%|█████████████████████▏                                                          | 53/200 [00:00<00:00, 464.76it/s]\u001b[A\n",
      " 52%|████████████████████████████████████████▋                                      | 103/200 [00:00<00:00, 483.37it/s]\u001b[A\n",
      "100%|███████████████████████████████████████████████████████████████████████████████| 200/200 [00:00<00:00, 501.43it/s]\u001b[A\n",
      " 70%|██████████████████████████████████████████████████████████                         | 7/10 [00:02<00:01,  2.47it/s]\n",
      "  0%|                                                                                          | 0/200 [00:00<?, ?it/s]\u001b[A\n",
      " 28%|██████████████████████▍                                                         | 56/200 [00:00<00:00, 502.35it/s]\u001b[A\n",
      " 54%|██████████████████████████████████████████▎                                    | 107/200 [00:00<00:00, 501.46it/s]\u001b[A\n",
      "100%|███████████████████████████████████████████████████████████████████████████████| 200/200 [00:00<00:00, 504.14it/s]\u001b[A\n",
      " 80%|██████████████████████████████████████████████████████████████████▍                | 8/10 [00:03<00:00,  2.45it/s]\n",
      "  0%|                                                                                          | 0/200 [00:00<?, ?it/s]\u001b[A\n",
      " 24%|███████████████████▌                                                            | 49/200 [00:00<00:00, 486.98it/s]\u001b[A\n",
      " 53%|█████████████████████████████████████████▊                                     | 106/200 [00:00<00:00, 497.55it/s]\u001b[A\n",
      "100%|███████████████████████████████████████████████████████████████████████████████| 200/200 [00:00<00:00, 501.90it/s]\u001b[A\n",
      " 90%|██████████████████████████████████████████████████████████████████████████▋        | 9/10 [00:03<00:00,  2.43it/s]\n",
      "  0%|                                                                                          | 0/200 [00:00<?, ?it/s]\u001b[A\n",
      " 20%|████████████████▍                                                               | 41/200 [00:00<00:00, 407.44it/s]\u001b[A\n",
      " 44%|███████████████████████████████████▏                                            | 88/200 [00:00<00:00, 440.98it/s]\u001b[A\n",
      " 71%|████████████████████████████████████████████████████████                       | 142/200 [00:00<00:00, 458.75it/s]\u001b[A\n",
      "100%|███████████████████████████████████████████████████████████████████████████████| 200/200 [00:00<00:00, 454.19it/s]\u001b[A\n",
      "100%|██████████████████████████████████████████████████████████████████████████████████| 10/10 [00:04<00:00,  2.43it/s]\n"
     ]
    }
   ],
   "source": [
    "from tqdm import tqdm\n",
    "import cv2\n",
    "import os\n",
    "data,tar=[],[]\n",
    "for dir in tqdm(os.listdir(path)):\n",
    "    dir_p=os.path.join(path+\"//\"+dir)\n",
    "    for img in tqdm(os.listdir(dir_p)):\n",
    "        img_r=cv2.imread(os.path.join(dir_p+\"//\"+img))\n",
    "        img_res=cv2.resize(img_r,(320,120))\n",
    "        img_nor=img_res/255.0\n",
    "        data.append(img_nor.flatten())\n",
    "        tar.append(dir)\n",
    "data=np.array(data)\n",
    "tar=np.array(tar)"
   ]
  },
  {
   "cell_type": "code",
   "execution_count": 71,
   "id": "76ba2a6b",
   "metadata": {},
   "outputs": [],
   "source": [
    "from PIL import Image\n",
    "sample=\"C:\\\\Users\\\\Dell\\\\Downloads\\\\hand\\\\leapGestRecog\\\\00\\\\01_palm\\\\frame_00_01_0177.png\"\n",
    "img = Image.open(sample)\n",
    "img.show()"
   ]
  },
  {
   "cell_type": "code",
   "execution_count": 66,
   "id": "d44f4875",
   "metadata": {},
   "outputs": [
    {
     "data": {
      "text/plain": [
       "(2000, 115200)"
      ]
     },
     "execution_count": 66,
     "metadata": {},
     "output_type": "execute_result"
    }
   ],
   "source": [
    "data.shape"
   ]
  },
  {
   "cell_type": "code",
   "execution_count": 5,
   "id": "f0c188f6",
   "metadata": {},
   "outputs": [
    {
     "data": {
      "text/plain": [
       "array(['01_palm', '01_palm', '01_palm', ..., '10_down', '10_down',\n",
       "       '10_down'], dtype='<U13')"
      ]
     },
     "execution_count": 5,
     "metadata": {},
     "output_type": "execute_result"
    }
   ],
   "source": [
    "tar"
   ]
  },
  {
   "cell_type": "code",
   "execution_count": 6,
   "id": "82789c04",
   "metadata": {},
   "outputs": [
    {
     "data": {
      "text/plain": [
       "array([0, 0, 0, ..., 9, 9, 9], dtype=int64)"
      ]
     },
     "execution_count": 6,
     "metadata": {},
     "output_type": "execute_result"
    }
   ],
   "source": [
    "from sklearn.preprocessing import LabelEncoder\n",
    "le=LabelEncoder()\n",
    "target=le.fit_transform(tar)\n",
    "target"
   ]
  },
  {
   "cell_type": "markdown",
   "id": "8fc99043",
   "metadata": {},
   "source": [
    "CREATE MODEL"
   ]
  },
  {
   "cell_type": "code",
   "execution_count": 40,
   "id": "dfe36f78",
   "metadata": {},
   "outputs": [
    {
     "name": "stdout",
     "output_type": "stream",
     "text": [
      "Model: \"sequential_2\"\n",
      "_________________________________________________________________\n",
      " Layer (type)                Output Shape              Param #   \n",
      "=================================================================\n",
      " dense_8 (Dense)             (None, 128)               14745728  \n",
      "                                                                 \n",
      " dense_9 (Dense)             (None, 64)                8256      \n",
      "                                                                 \n",
      " dense_10 (Dense)            (None, 32)                2080      \n",
      "                                                                 \n",
      " dense_11 (Dense)            (None, 10)                330       \n",
      "                                                                 \n",
      "=================================================================\n",
      "Total params: 14756394 (56.29 MB)\n",
      "Trainable params: 14756394 (56.29 MB)\n",
      "Non-trainable params: 0 (0.00 Byte)\n",
      "_________________________________________________________________\n"
     ]
    }
   ],
   "source": [
    "from tensorflow.keras.models import Sequential\n",
    "from tensorflow.keras.layers import Dense\n",
    "input_shape=(115200,)\n",
    "\n",
    "model = Sequential()\n",
    "model.add(Dense(128,activation='relu',input_shape=input_shape))\n",
    "model.add(Dense(64,activation='relu'))\n",
    "model.add(Dense(32,activation='relu'))\n",
    "model.add(Dense(10,activation='softmax')) \n",
    "\n",
    "model.compile(optimizer='adam', loss='sparse_categorical_crossentropy', metrics=['accuracy'])\n",
    "model.summary()"
   ]
  },
  {
   "cell_type": "code",
   "execution_count": 41,
   "id": "cb1aba72",
   "metadata": {},
   "outputs": [],
   "source": [
    "from sklearn.model_selection import train_test_split\n",
    "x_train,x_test,y_train,y_test=train_test_split(data,target,test_size=0.3,random_state=2)"
   ]
  },
  {
   "cell_type": "code",
   "execution_count": 9,
   "id": "322b4684",
   "metadata": {},
   "outputs": [
    {
     "data": {
      "text/plain": [
       "(1400, 115200)"
      ]
     },
     "execution_count": 9,
     "metadata": {},
     "output_type": "execute_result"
    }
   ],
   "source": [
    "x_train.shape"
   ]
  },
  {
   "cell_type": "code",
   "execution_count": 10,
   "id": "9cfdcfb8",
   "metadata": {},
   "outputs": [
    {
     "data": {
      "text/plain": [
       "(1400,)"
      ]
     },
     "execution_count": 10,
     "metadata": {},
     "output_type": "execute_result"
    }
   ],
   "source": [
    "y_train.shape"
   ]
  },
  {
   "cell_type": "code",
   "execution_count": 11,
   "id": "e0f8a606",
   "metadata": {},
   "outputs": [
    {
     "data": {
      "text/plain": [
       "(600, 115200)"
      ]
     },
     "execution_count": 11,
     "metadata": {},
     "output_type": "execute_result"
    }
   ],
   "source": [
    "x_test.shape"
   ]
  },
  {
   "cell_type": "code",
   "execution_count": 12,
   "id": "a928c117",
   "metadata": {},
   "outputs": [
    {
     "data": {
      "text/plain": [
       "(600,)"
      ]
     },
     "execution_count": 12,
     "metadata": {},
     "output_type": "execute_result"
    }
   ],
   "source": [
    "y_test.shape"
   ]
  },
  {
   "cell_type": "markdown",
   "id": "7b2582f3",
   "metadata": {},
   "source": [
    "FITTING THE MODEL"
   ]
  },
  {
   "cell_type": "code",
   "execution_count": 42,
   "id": "b75c119c",
   "metadata": {},
   "outputs": [
    {
     "name": "stdout",
     "output_type": "stream",
     "text": [
      "Epoch 1/10\n",
      "44/44 [==============================] - 5s 86ms/step - loss: 2.0006 - accuracy: 0.6564\n",
      "Epoch 2/10\n",
      "44/44 [==============================] - 4s 89ms/step - loss: 0.0492 - accuracy: 0.9936\n",
      "Epoch 3/10\n",
      "44/44 [==============================] - 4s 88ms/step - loss: 0.0123 - accuracy: 0.9979\n",
      "Epoch 4/10\n",
      "44/44 [==============================] - 4s 85ms/step - loss: 0.0061 - accuracy: 1.0000\n",
      "Epoch 5/10\n",
      "44/44 [==============================] - 4s 87ms/step - loss: 0.0035 - accuracy: 1.0000\n",
      "Epoch 6/10\n",
      "44/44 [==============================] - 4s 88ms/step - loss: 0.0021 - accuracy: 1.0000\n",
      "Epoch 7/10\n",
      "44/44 [==============================] - 4s 89ms/step - loss: 0.0016 - accuracy: 1.0000\n",
      "Epoch 8/10\n",
      "44/44 [==============================] - 4s 96ms/step - loss: 0.0012 - accuracy: 1.0000\n",
      "Epoch 9/10\n",
      "44/44 [==============================] - 4s 96ms/step - loss: 0.0010 - accuracy: 1.0000\n",
      "Epoch 10/10\n",
      "44/44 [==============================] - 4s 89ms/step - loss: 8.9407e-04 - accuracy: 1.0000\n"
     ]
    }
   ],
   "source": [
    "from tensorflow.keras.callbacks import EarlyStopping\n",
    "es= EarlyStopping(monitor='loss',patience=3,restore_best_weights=True)\n",
    "history = model.fit(x_train,y_train,epochs=10,callbacks=[es], verbose=1)"
   ]
  },
  {
   "cell_type": "code",
   "execution_count": 43,
   "id": "1a4809db",
   "metadata": {},
   "outputs": [
    {
     "name": "stdout",
     "output_type": "stream",
     "text": [
      "19/19 [==============================] - 0s 13ms/step - loss: 0.0053 - accuracy: 0.9983\n",
      "Loss: 0.0052924915216863155\n",
      "Accuracy: 0.9983333349227905\n"
     ]
    }
   ],
   "source": [
    "loss,accuracy = model.evaluate(x_test,y_test,verbose=1)\n",
    "print(\"Loss:\",loss)\n",
    "print(\"Accuracy:\",accuracy)"
   ]
  },
  {
   "cell_type": "code",
   "execution_count": 51,
   "id": "e88e3af1",
   "metadata": {},
   "outputs": [
    {
     "name": "stdout",
     "output_type": "stream",
     "text": [
      "19/19 [==============================] - 0s 15ms/step\n"
     ]
    }
   ],
   "source": [
    "y_pred=model.predict(x_test)"
   ]
  },
  {
   "cell_type": "code",
   "execution_count": 52,
   "id": "cfde7d0f",
   "metadata": {},
   "outputs": [],
   "source": [
    "predicted=np.argmax(y_pred, axis=1)\n",
    "y_pred=predicted"
   ]
  },
  {
   "cell_type": "code",
   "execution_count": 65,
   "id": "8372d121",
   "metadata": {},
   "outputs": [
    {
     "data": {
      "image/png": "[encoded data removed]",
      "text/plain": [
       "<Figure size 800x600 with 1 Axes>"
      ]
     },
     "metadata": {},
     "output_type": "display_data"
    }
   ],
   "source": [
    "plt.figure(figsize=(8, 6))\n",
    "sns.scatterplot(x=y_true,y=y_pred, color='blue', label='Predicted vs Actual')\n",
    "sns.lineplot(x=y_true,y=y_pred, color='red', label='Data points')\n",
    "plt.xlabel('Actual')\n",
    "plt.ylabel('Predicted')\n",
    "plt.title('Actual vs Predicted')\n",
    "plt.legend()\n",
    "plt.grid(True)\n",
    "plt.show()"
   ]
  },
  {
   "cell_type": "code",
   "execution_count": null,
   "id": "ea87a430",
   "metadata": {},
   "outputs": [],
   "source": []
  }
 ],
 "metadata": {
  "kernelspec": {
   "display_name": "Python 3 (ipykernel)",
   "language": "python",
   "name": "python3"
  },
  "language_info": {
   "codemirror_mode": {
    "name": "ipython",
    "version": 3
   },
   "file_extension": ".py",
   "mimetype": "text/x-python",
   "name": "python",
   "nbconvert_exporter": "python",
   "pygments_lexer": "ipython3",
   "version": "3.11.4"
  }
 },
 "nbformat": 4,
 "nbformat_minor": 5
}
